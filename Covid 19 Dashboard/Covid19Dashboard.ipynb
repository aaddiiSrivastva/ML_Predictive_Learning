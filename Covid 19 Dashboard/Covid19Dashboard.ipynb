{
 "cells": [
  {
   "cell_type": "code",
   "execution_count": 867,
   "metadata": {},
   "outputs": [],
   "source": [
    "import requests\r\n",
    "import pandas as pd\r\n",
    "import json\r\n",
    "import xlsxwriter\r\n",
    "import matplotlib.pyplot as plt\r\n",
    "\r\n",
    "from ipywidgets import interact, interactive, fixed, interact_manual\r\n",
    "import ipywidgets as widgets"
   ]
  },
  {
   "cell_type": "markdown",
   "metadata": {},
   "source": [
    "## Idea:\r\n",
    " - First we will see the tops datas and few analysis. (Done)\r\n",
    " - We will try to see the dropdowns with states name and then plot of confirmed cases/ Active Cases/ Recovered/ Deceased\r\n",
    " - We can think of UI where the data is presented in normal manner.\r\n",
    " - We can see some campared data where we can compare data's with each others\r\n",
    " - Later we create a ML model which can predict the future by learning past.\r\n",
    " - If we can have the past data weekwise or month wise then we can say which state was careless in what period of time."
   ]
  },
  {
   "cell_type": "code",
   "execution_count": 868,
   "metadata": {
    "tags": []
   },
   "outputs": [
    {
     "name": "stdout",
     "output_type": "stream",
     "text": [
      "200\n"
     ]
    }
   ],
   "source": [
    "#getting the data from the API\n",
    "response = requests.get('https://api.covid19india.org/state_district_wise.json')\n",
    "#lets check the response\n",
    "print(response.status_code)"
   ]
  },
  {
   "cell_type": "code",
   "execution_count": 869,
   "metadata": {
    "tags": []
   },
   "outputs": [
    {
     "data": {
      "text/plain": [
       "{'notes': '',\n",
       " 'active': 61,\n",
       " 'confirmed': 25708,\n",
       " 'migratedother': 0,\n",
       " 'deceased': 453,\n",
       " 'recovered': 25194,\n",
       " 'delta': {'confirmed': 0, 'deceased': 0, 'recovered': 0}}"
      ]
     },
     "execution_count": 869,
     "metadata": {},
     "output_type": "execute_result"
    }
   ],
   "source": [
    "#lets load the json data and try to find out if thisngs looks fine.\n",
    "jsonRawData = json.loads(response.text)\n",
    "currDistrict = jsonRawData['Uttar Pradesh']['districtData']['Agra']\n",
    "currDistrict"
   ]
  },
  {
   "cell_type": "markdown",
   "metadata": {},
   "source": [
    "**Tips:** pd.to_excel has not solve our problem we will have to check the other solution as well, we will take the long route and use excel writter and later point of time we will read the same."
   ]
  },
  {
   "cell_type": "code",
   "execution_count": 870,
   "metadata": {},
   "outputs": [
    {
     "data": {
      "text/plain": [
       "0"
      ]
     },
     "execution_count": 870,
     "metadata": {},
     "output_type": "execute_result"
    }
   ],
   "source": [
    "# pd.to_excel has not solve our problem for some reason, gotta take the long way, we will use the excel writter \r\n",
    "workbook = xlsxwriter.Workbook('todaysData.xlsx')\r\n",
    "worksheet = workbook.add_worksheet()\r\n",
    "\r\n",
    "worksheet.write(0,0, 'States')\r\n",
    "worksheet.write(0,1, 'District')\r\n",
    "worksheet.write(0,2, 'Notes')\r\n",
    "worksheet.write(0,3, 'Active')\r\n",
    "worksheet.write(0,4, 'Confirmed')\r\n",
    "worksheet.write(0,5, 'Migratedother')\r\n",
    "worksheet.write(0,6, 'Deceased')\r\n",
    "worksheet.write(0,7, 'Recovered')\r\n",
    "worksheet.write(0,8, 'Delta')\r\n",
    "\r\n",
    "# workbook.close()   "
   ]
  },
  {
   "cell_type": "code",
   "execution_count": 871,
   "metadata": {
    "tags": []
   },
   "outputs": [],
   "source": [
    "# A definition to convert the JSON data in excel.\n",
    "def convertJSONToExcel(rawData):\n",
    "    # print(rawData)\n",
    "    i=0\n",
    "    for stateName in rawData:\n",
    "        for districtName in rawData[stateName][\"districtData\"]:\n",
    "            i+=1\n",
    "            for name in rawData[stateName][\"districtData\"][districtName]:\n",
    "                worksheet.write(i, 0, stateName)\n",
    "                worksheet.write(i, 1, districtName)\n",
    "                worksheet.write(i, 2, rawData[stateName][\"districtData\"][districtName][\"notes\"])\n",
    "                worksheet.write(i, 3, rawData[stateName][\"districtData\"][districtName][\"active\"])\n",
    "                worksheet.write(i, 4, rawData[stateName][\"districtData\"][districtName][\"confirmed\"])\n",
    "                worksheet.write(i, 5, rawData[stateName][\"districtData\"][districtName][\"migratedother\"])\n",
    "                worksheet.write(i, 6, rawData[stateName][\"districtData\"][districtName][\"deceased\"])\n",
    "                worksheet.write(i, 7, rawData[stateName][\"districtData\"][districtName][\"recovered\"])\n",
    "\n",
    "convertJSONToExcel(jsonRawData);"
   ]
  },
  {
   "cell_type": "code",
   "execution_count": 872,
   "metadata": {},
   "outputs": [],
   "source": [
    "workbook.close()"
   ]
  },
  {
   "cell_type": "markdown",
   "metadata": {},
   "source": [
    "Till here we have our data in a excel form now lets begin our ML journey\r\n",
    "\r\n",
    "===================================================================\r\n",
    "==================================================================="
   ]
  },
  {
   "cell_type": "code",
   "execution_count": 873,
   "metadata": {},
   "outputs": [
    {
     "data": {
      "text/html": [
       "<div>\n",
       "<style scoped>\n",
       "    .dataframe tbody tr th:only-of-type {\n",
       "        vertical-align: middle;\n",
       "    }\n",
       "\n",
       "    .dataframe tbody tr th {\n",
       "        vertical-align: top;\n",
       "    }\n",
       "\n",
       "    .dataframe thead th {\n",
       "        text-align: right;\n",
       "    }\n",
       "</style>\n",
       "<table border=\"1\" class=\"dataframe\">\n",
       "  <thead>\n",
       "    <tr style=\"text-align: right;\">\n",
       "      <th></th>\n",
       "      <th>States</th>\n",
       "      <th>District</th>\n",
       "      <th>Notes</th>\n",
       "      <th>Active</th>\n",
       "      <th>Confirmed</th>\n",
       "      <th>Migratedother</th>\n",
       "      <th>Deceased</th>\n",
       "      <th>Recovered</th>\n",
       "      <th>Delta</th>\n",
       "    </tr>\n",
       "  </thead>\n",
       "  <tbody>\n",
       "    <tr>\n",
       "      <th>0</th>\n",
       "      <td>State Unassigned</td>\n",
       "      <td>Unassigned</td>\n",
       "      <td>NaN</td>\n",
       "      <td>0</td>\n",
       "      <td>0</td>\n",
       "      <td>0</td>\n",
       "      <td>0</td>\n",
       "      <td>0</td>\n",
       "      <td>NaN</td>\n",
       "    </tr>\n",
       "    <tr>\n",
       "      <th>1</th>\n",
       "      <td>Andaman and Nicobar Islands</td>\n",
       "      <td>Nicobars</td>\n",
       "      <td>District-wise numbers are out-dated as cumulat...</td>\n",
       "      <td>0</td>\n",
       "      <td>0</td>\n",
       "      <td>0</td>\n",
       "      <td>0</td>\n",
       "      <td>0</td>\n",
       "      <td>NaN</td>\n",
       "    </tr>\n",
       "    <tr>\n",
       "      <th>2</th>\n",
       "      <td>Andaman and Nicobar Islands</td>\n",
       "      <td>North and Middle Andaman</td>\n",
       "      <td>District-wise numbers are out-dated as cumulat...</td>\n",
       "      <td>0</td>\n",
       "      <td>1</td>\n",
       "      <td>0</td>\n",
       "      <td>0</td>\n",
       "      <td>1</td>\n",
       "      <td>NaN</td>\n",
       "    </tr>\n",
       "    <tr>\n",
       "      <th>3</th>\n",
       "      <td>Andaman and Nicobar Islands</td>\n",
       "      <td>South Andaman</td>\n",
       "      <td>District-wise numbers are out-dated as cumulat...</td>\n",
       "      <td>19</td>\n",
       "      <td>51</td>\n",
       "      <td>0</td>\n",
       "      <td>0</td>\n",
       "      <td>32</td>\n",
       "      <td>NaN</td>\n",
       "    </tr>\n",
       "    <tr>\n",
       "      <th>4</th>\n",
       "      <td>Andaman and Nicobar Islands</td>\n",
       "      <td>Unknown</td>\n",
       "      <td>NaN</td>\n",
       "      <td>1</td>\n",
       "      <td>7426</td>\n",
       "      <td>0</td>\n",
       "      <td>128</td>\n",
       "      <td>7297</td>\n",
       "      <td>NaN</td>\n",
       "    </tr>\n",
       "  </tbody>\n",
       "</table>\n",
       "</div>"
      ],
      "text/plain": [
       "                        States                  District  \\\n",
       "0             State Unassigned                Unassigned   \n",
       "1  Andaman and Nicobar Islands                  Nicobars   \n",
       "2  Andaman and Nicobar Islands  North and Middle Andaman   \n",
       "3  Andaman and Nicobar Islands             South Andaman   \n",
       "4  Andaman and Nicobar Islands                   Unknown   \n",
       "\n",
       "                                               Notes  Active  Confirmed  \\\n",
       "0                                                NaN       0          0   \n",
       "1  District-wise numbers are out-dated as cumulat...       0          0   \n",
       "2  District-wise numbers are out-dated as cumulat...       0          1   \n",
       "3  District-wise numbers are out-dated as cumulat...      19         51   \n",
       "4                                                NaN       1       7426   \n",
       "\n",
       "   Migratedother  Deceased  Recovered  Delta  \n",
       "0              0         0          0    NaN  \n",
       "1              0         0          0    NaN  \n",
       "2              0         0          1    NaN  \n",
       "3              0         0         32    NaN  \n",
       "4              0       128       7297    NaN  "
      ]
     },
     "execution_count": 873,
     "metadata": {},
     "output_type": "execute_result"
    }
   ],
   "source": [
    "# Now lets read the excel data and start our journry\r\n",
    "rawDS = pd.read_excel('todaysData.xlsx')\r\n",
    "firstDS=rawDS\r\n",
    "rawDS.head()"
   ]
  },
  {
   "cell_type": "markdown",
   "metadata": {},
   "source": [
    "**Idea:** We will try to check the consolidated date and play with graphs"
   ]
  },
  {
   "cell_type": "code",
   "execution_count": 874,
   "metadata": {},
   "outputs": [
    {
     "data": {
      "text/html": [
       "<div>\n",
       "<style scoped>\n",
       "    .dataframe tbody tr th:only-of-type {\n",
       "        vertical-align: middle;\n",
       "    }\n",
       "\n",
       "    .dataframe tbody tr th {\n",
       "        vertical-align: top;\n",
       "    }\n",
       "\n",
       "    .dataframe thead th {\n",
       "        text-align: right;\n",
       "    }\n",
       "</style>\n",
       "<table border=\"1\" class=\"dataframe\">\n",
       "  <thead>\n",
       "    <tr style=\"text-align: right;\">\n",
       "      <th></th>\n",
       "      <th>States</th>\n",
       "      <th>Active</th>\n",
       "      <th>Confirmed</th>\n",
       "      <th>Migratedother</th>\n",
       "      <th>Deceased</th>\n",
       "      <th>Recovered</th>\n",
       "    </tr>\n",
       "  </thead>\n",
       "  <tbody>\n",
       "    <tr>\n",
       "      <th>0</th>\n",
       "      <td>State Unassigned</td>\n",
       "      <td>20</td>\n",
       "      <td>7478</td>\n",
       "      <td>0</td>\n",
       "      <td>128</td>\n",
       "      <td>7330</td>\n",
       "    </tr>\n",
       "    <tr>\n",
       "      <th>1</th>\n",
       "      <td>Andaman and Nicobar Islands</td>\n",
       "      <td>35871</td>\n",
       "      <td>1899748</td>\n",
       "      <td>0</td>\n",
       "      <td>12815</td>\n",
       "      <td>1851062</td>\n",
       "    </tr>\n",
       "    <tr>\n",
       "      <th>2</th>\n",
       "      <td>Andhra Pradesh</td>\n",
       "      <td>3057</td>\n",
       "      <td>36937</td>\n",
       "      <td>0</td>\n",
       "      <td>176</td>\n",
       "      <td>33704</td>\n",
       "    </tr>\n",
       "    <tr>\n",
       "      <th>3</th>\n",
       "      <td>Arunachal Pradesh</td>\n",
       "      <td>15317</td>\n",
       "      <td>515981</td>\n",
       "      <td>1347</td>\n",
       "      <td>4632</td>\n",
       "      <td>486265</td>\n",
       "    </tr>\n",
       "    <tr>\n",
       "      <th>4</th>\n",
       "      <td>Assam</td>\n",
       "      <td>1539</td>\n",
       "      <td>722418</td>\n",
       "      <td>1</td>\n",
       "      <td>9599</td>\n",
       "      <td>711279</td>\n",
       "    </tr>\n",
       "  </tbody>\n",
       "</table>\n",
       "</div>"
      ],
      "text/plain": [
       "                        States  Active  Confirmed  Migratedother  Deceased  \\\n",
       "0             State Unassigned      20       7478              0       128   \n",
       "1  Andaman and Nicobar Islands   35871    1899748              0     12815   \n",
       "2               Andhra Pradesh    3057      36937              0       176   \n",
       "3            Arunachal Pradesh   15317     515981           1347      4632   \n",
       "4                        Assam    1539     722418              1      9599   \n",
       "\n",
       "   Recovered  \n",
       "0       7330  \n",
       "1    1851062  \n",
       "2      33704  \n",
       "3     486265  \n",
       "4     711279  "
      ]
     },
     "execution_count": 874,
     "metadata": {},
     "output_type": "execute_result"
    }
   ],
   "source": [
    "#lets create the consolidated dataset\r\n",
    "consolidatedData = pd.DataFrame()\r\n",
    "consolidatedData['States']=rawDS.States.sort_index().unique()\r\n",
    "# #putting all active cases state wise\r\n",
    "consolidatedData['Active'] = firstDS.groupby([\"States\"])[\"Active\"].sum().values\r\n",
    "#putting all confirmed cases state wise\r\n",
    "consolidatedData['Confirmed'] = firstDS.groupby([\"States\"])[\"Confirmed\"].sum().values\r\n",
    "#putting all Migratedother cases state wise\r\n",
    "consolidatedData['Migratedother'] = firstDS.groupby([\"States\"])[\"Migratedother\"].sum().values\r\n",
    "#putting all Deceased cases state wise\r\n",
    "consolidatedData['Deceased'] = firstDS.groupby([\"States\"])[\"Deceased\"].sum().values\r\n",
    "#putting all Recovered cases state wise\r\n",
    "consolidatedData['Recovered'] = firstDS.groupby([\"States\"])[\"Recovered\"].sum().values\r\n",
    "# consolidatedData.set_index('States',drop=True, inplace=True)\r\n",
    "consolidatedData.head()\r\n",
    "\r\n",
    "\r\n"
   ]
  },
  {
   "cell_type": "markdown",
   "metadata": {},
   "source": [
    "**MOTS:** We have the consolidated data and some insite also which looks fine.... \\\r\n",
    "But these insite is good as individuals, we won't be having any stuffy information untill we compare these data."
   ]
  },
  {
   "cell_type": "markdown",
   "metadata": {},
   "source": [
    "**IDEA** Now lets compare these data's then only we can see some insite."
   ]
  },
  {
   "cell_type": "code",
   "execution_count": 875,
   "metadata": {},
   "outputs": [
    {
     "data": {
      "image/png": "[encoded data removed]",
      "text/plain": [
       "<Figure size 1800x288 with 1 Axes>"
      ]
     },
     "metadata": {
      "needs_background": "light"
     },
     "output_type": "display_data"
    }
   ],
   "source": [
    "plt.figure(figsize=(25, 4)) \r\n",
    "plt.plot(consolidatedData.States, consolidatedData.Confirmed)\r\n",
    "plt.plot(consolidatedData.States, consolidatedData.Recovered)\r\n",
    "plt.plot(consolidatedData.States, consolidatedData.Active)\r\n",
    "plt.plot(consolidatedData.States, consolidatedData.Deceased)\r\n",
    "plt.show()"
   ]
  },
  {
   "cell_type": "markdown",
   "metadata": {},
   "source": [
    "**MOTS:** Seems like we dont have much here also.....\\\r\n",
    "Frankly speaking more number of confirmed cases will have more number of Recovered cases and decesased cases also.\r\n",
    "\r\n",
    " - What we can find out here that is rate of recovery in any place, but that also be simple because that will be more for current most active cases place. which is also not giving much information.\r\n",
    " - Think about any states where the data shows that the rate is low dosnt mean that states is careless of anything, but it means in past might that states was handling good but now they are struggling right.\r\n",
    " - Suppose you have data which shows you the data timewise the we can tell that this perticular state is careless at this perticular time."
   ]
  },
  {
   "cell_type": "code",
   "execution_count": 876,
   "metadata": {},
   "outputs": [
    {
     "data": {
      "text/plain": [
       "Index(['State Unassigned', 'Andaman and Nicobar Islands', 'Andhra Pradesh',\n",
       "       'Arunachal Pradesh', 'Assam', 'Bihar', 'Chandigarh', 'Chhattisgarh',\n",
       "       'Delhi', 'Dadra and Nagar Haveli and Daman and Diu', 'Goa', 'Gujarat',\n",
       "       'Himachal Pradesh', 'Haryana', 'Jharkhand', 'Jammu and Kashmir',\n",
       "       'Karnataka', 'Kerala', 'Ladakh', 'Lakshadweep', 'Maharashtra',\n",
       "       'Meghalaya', 'Manipur', 'Madhya Pradesh', 'Mizoram', 'Nagaland',\n",
       "       'Odisha', 'Punjab', 'Puducherry', 'Rajasthan', 'Sikkim', 'Telangana',\n",
       "       'Tamil Nadu', 'Tripura', 'Uttar Pradesh', 'Uttarakhand', 'West Bengal'],\n",
       "      dtype='object', name='States')"
      ]
     },
     "execution_count": 876,
     "metadata": {},
     "output_type": "execute_result"
    }
   ],
   "source": [
    "consolidatedData.set_index('States', drop=True, inplace=True)\r\n",
    "consolidatedData.index"
   ]
  },
  {
   "cell_type": "code",
   "execution_count": 877,
   "metadata": {},
   "outputs": [
    {
     "data": {
      "application/vnd.jupyter.widget-view+json": {
       "model_id": "43d607d5063f48019dc029e3cf49e2ac",
       "version_major": 2,
       "version_minor": 0
      },
      "text/plain": [
       "interactive(children=(Dropdown(description='states', options=('State Unassigned', 'Andaman and Nicobar Islands…"
      ]
     },
     "metadata": {},
     "output_type": "display_data"
    },
    {
     "data": {
      "text/plain": [
       "<function __main__.stateData(states)>"
      ]
     },
     "execution_count": 877,
     "metadata": {},
     "output_type": "execute_result"
    }
   ],
   "source": [
    "# here we are trying to get the data represented with the help of interact but at the state level\r\n",
    "def stateData(states):\r\n",
    "    consolidatedData.loc[states].plot(kind='bar')\r\n",
    "\r\n",
    "interact(stateData, states=consolidatedData.index)"
   ]
  },
  {
   "cell_type": "code",
   "execution_count": 878,
   "metadata": {},
   "outputs": [
    {
     "data": {
      "text/html": [
       "<div>\n",
       "<style scoped>\n",
       "    .dataframe tbody tr th:only-of-type {\n",
       "        vertical-align: middle;\n",
       "    }\n",
       "\n",
       "    .dataframe tbody tr th {\n",
       "        vertical-align: top;\n",
       "    }\n",
       "\n",
       "    .dataframe thead th {\n",
       "        text-align: right;\n",
       "    }\n",
       "</style>\n",
       "<table border=\"1\" class=\"dataframe\">\n",
       "  <thead>\n",
       "    <tr style=\"text-align: right;\">\n",
       "      <th></th>\n",
       "      <th>States</th>\n",
       "      <th>Active</th>\n",
       "      <th>Confirmed</th>\n",
       "      <th>Migratedother</th>\n",
       "      <th>Deceased</th>\n",
       "      <th>Recovered</th>\n",
       "    </tr>\n",
       "  </thead>\n",
       "  <tbody>\n",
       "    <tr>\n",
       "      <th>0</th>\n",
       "      <td>State Unassigned</td>\n",
       "      <td>20</td>\n",
       "      <td>7478</td>\n",
       "      <td>0</td>\n",
       "      <td>128</td>\n",
       "      <td>7330</td>\n",
       "    </tr>\n",
       "    <tr>\n",
       "      <th>1</th>\n",
       "      <td>Andaman and Nicobar Islands</td>\n",
       "      <td>35871</td>\n",
       "      <td>1899748</td>\n",
       "      <td>0</td>\n",
       "      <td>12815</td>\n",
       "      <td>1851062</td>\n",
       "    </tr>\n",
       "    <tr>\n",
       "      <th>2</th>\n",
       "      <td>Andhra Pradesh</td>\n",
       "      <td>3057</td>\n",
       "      <td>36937</td>\n",
       "      <td>0</td>\n",
       "      <td>176</td>\n",
       "      <td>33704</td>\n",
       "    </tr>\n",
       "    <tr>\n",
       "      <th>3</th>\n",
       "      <td>Arunachal Pradesh</td>\n",
       "      <td>15317</td>\n",
       "      <td>515981</td>\n",
       "      <td>1347</td>\n",
       "      <td>4632</td>\n",
       "      <td>486265</td>\n",
       "    </tr>\n",
       "    <tr>\n",
       "      <th>4</th>\n",
       "      <td>Assam</td>\n",
       "      <td>1539</td>\n",
       "      <td>722418</td>\n",
       "      <td>1</td>\n",
       "      <td>9599</td>\n",
       "      <td>711279</td>\n",
       "    </tr>\n",
       "  </tbody>\n",
       "</table>\n",
       "</div>"
      ],
      "text/plain": [
       "                        States  Active  Confirmed  Migratedother  Deceased  \\\n",
       "0             State Unassigned      20       7478              0       128   \n",
       "1  Andaman and Nicobar Islands   35871    1899748              0     12815   \n",
       "2               Andhra Pradesh    3057      36937              0       176   \n",
       "3            Arunachal Pradesh   15317     515981           1347      4632   \n",
       "4                        Assam    1539     722418              1      9599   \n",
       "\n",
       "   Recovered  \n",
       "0       7330  \n",
       "1    1851062  \n",
       "2      33704  \n",
       "3     486265  \n",
       "4     711279  "
      ]
     },
     "execution_count": 878,
     "metadata": {},
     "output_type": "execute_result"
    }
   ],
   "source": [
    "#lets create the consolidated dataset\r\n",
    "consolidatedData_1 = pd.DataFrame()\r\n",
    "consolidatedData_1['States']=rawDS.States.sort_index().unique()\r\n",
    "# #putting all active cases state wise\r\n",
    "consolidatedData_1['Active'] = firstDS.groupby([\"States\"])[\"Active\"].sum().values\r\n",
    "#putting all confirmed cases state wise\r\n",
    "consolidatedData_1['Confirmed'] = firstDS.groupby([\"States\"])[\"Confirmed\"].sum().values\r\n",
    "#putting all Migratedother cases state wise\r\n",
    "consolidatedData_1['Migratedother'] = firstDS.groupby([\"States\"])[\"Migratedother\"].sum().values\r\n",
    "#putting all Deceased cases state wise\r\n",
    "consolidatedData_1['Deceased'] = firstDS.groupby([\"States\"])[\"Deceased\"].sum().values\r\n",
    "#putting all Recovered cases state wise\r\n",
    "consolidatedData_1['Recovered'] = firstDS.groupby([\"States\"])[\"Recovered\"].sum().values\r\n",
    "# consolidatedData.set_index('States',drop=True, inplace=True)\r\n",
    "consolidatedData_1.head()\r\n",
    "# consolidatedData_1\r\n"
   ]
  },
  {
   "cell_type": "code",
   "execution_count": 890,
   "metadata": {},
   "outputs": [],
   "source": [
    "# lets try the graph for all the consolidated data having to choose stages among\r\n",
    "def topStatesInformation(stage):\r\n",
    "    secondDS  = consolidatedData_1[['States',stage]]\r\n",
    "    secondDS.set_index('States', drop=True, inplace=True)\r\n",
    "    secondDS.nlargest(20, stage).plot(kind='bar', title =\"Top states as per \" + stage +  \" cases\", figsize=(25, 3),legend=True)\r\n",
    "    for index,data in enumerate(secondDS[stage].nlargest(20)):\r\n",
    "        plt.text(x=index ,y = data, s=f\"{data}\" , fontdict=dict(fontsize=10))\r\n",
    "    \r\n",
    "\r\n",
    "stages = (['Confirmed','Recovered','Active','Deceased'])"
   ]
  },
  {
   "cell_type": "code",
   "execution_count": 892,
   "metadata": {},
   "outputs": [
    {
     "data": {
      "application/vnd.jupyter.widget-view+json": {
       "model_id": "e9e74ff909c4490dacae1e9148e45d7a",
       "version_major": 2,
       "version_minor": 0
      },
      "text/plain": [
       "interactive(children=(Dropdown(description='stage', options=('Confirmed', 'Recovered', 'Active', 'Deceased'), …"
      ]
     },
     "metadata": {},
     "output_type": "display_data"
    },
    {
     "data": {
      "text/plain": [
       "<function __main__.topStatesInformation(stage)>"
      ]
     },
     "execution_count": 892,
     "metadata": {},
     "output_type": "execute_result"
    }
   ],
   "source": [
    "#lets check the interact now.\r\n",
    "interact(topStatesInformation, stage = stages)\r\n"
   ]
  },
  {
   "cell_type": "code",
   "execution_count": null,
   "metadata": {},
   "outputs": [],
   "source": []
  },
  {
   "cell_type": "code",
   "execution_count": null,
   "metadata": {},
   "outputs": [],
   "source": []
  },
  {
   "cell_type": "code",
   "execution_count": null,
   "metadata": {},
   "outputs": [],
   "source": []
  },
  {
   "cell_type": "code",
   "execution_count": null,
   "metadata": {},
   "outputs": [],
   "source": []
  },
  {
   "cell_type": "code",
   "execution_count": null,
   "metadata": {},
   "outputs": [],
   "source": []
  },
  {
   "cell_type": "code",
   "execution_count": null,
   "metadata": {},
   "outputs": [],
   "source": []
  },
  {
   "cell_type": "code",
   "execution_count": null,
   "metadata": {},
   "outputs": [],
   "source": []
  },
  {
   "cell_type": "code",
   "execution_count": null,
   "metadata": {},
   "outputs": [],
   "source": []
  },
  {
   "cell_type": "code",
   "execution_count": null,
   "metadata": {},
   "outputs": [],
   "source": []
  },
  {
   "cell_type": "code",
   "execution_count": null,
   "metadata": {},
   "outputs": [],
   "source": []
  },
  {
   "cell_type": "code",
   "execution_count": null,
   "metadata": {},
   "outputs": [],
   "source": []
  },
  {
   "cell_type": "code",
   "execution_count": null,
   "metadata": {},
   "outputs": [],
   "source": []
  }
 ],
 "metadata": {
  "interpreter": {
   "hash": "2e3224ba4f12f2fe23aa7067ab0ec53fca43306ff7bbb55e195c157435fb17aa"
  },
  "kernelspec": {
   "display_name": "Python 3.8.5 64-bit ('base': conda)",
   "name": "python3"
  },
  "language_info": {
   "codemirror_mode": {
    "name": "ipython",
    "version": 3
   },
   "file_extension": ".py",
   "mimetype": "text/x-python",
   "name": "python",
   "nbconvert_exporter": "python",
   "pygments_lexer": "ipython3",
   "version": "3.8.5"
  },
  "orig_nbformat": 4
 },
 "nbformat": 4,
 "nbformat_minor": 2
}