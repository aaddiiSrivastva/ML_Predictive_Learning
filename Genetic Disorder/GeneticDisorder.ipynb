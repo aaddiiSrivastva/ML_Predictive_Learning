{
 "cells": [
  {
   "cell_type": "code",
   "execution_count": 1417,
   "source": [
    "import pandas as pd\r\n",
    "import numpy as np\r\n",
    "import matplotlib.pyplot as plt\r\n",
    "from sklearn.model_selection import train_test_split\r\n",
    "from sklearn.ensemble import RandomForestClassifier\r\n",
    "from sklearn.metrics import accuracy_score\r\n",
    "from sklearn.model_selection import RandomizedSearchCV\r\n",
    "from sklearn.model_selection import GridSearchCV\r\n",
    "import seaborn as sns\r\n",
    "sns.set()\r\n",
    "\r\n",
    "import xgboost\r\n",
    "\r\n",
    "import warnings\r\n",
    "warnings.filterwarnings('ignore')"
   ],
   "outputs": [],
   "metadata": {}
  },
  {
   "cell_type": "code",
   "execution_count": 1418,
   "source": [
    "# Lets load the data and proceed further.\r\n",
    "rawDS = pd.read_csv(\"./dataset/train.csv\")\r\n",
    "# rawDS.head()"
   ],
   "outputs": [],
   "metadata": {}
  },
  {
   "cell_type": "code",
   "execution_count": 1419,
   "source": [
    "rawDS.shape"
   ],
   "outputs": [
    {
     "output_type": "execute_result",
     "data": {
      "text/plain": [
       "(22083, 45)"
      ]
     },
     "metadata": {},
     "execution_count": 1419
    }
   ],
   "metadata": {}
  },
  {
   "cell_type": "code",
   "execution_count": 1420,
   "source": [
    "firstDS = rawDS\r\n",
    "# rawDS.info()"
   ],
   "outputs": [],
   "metadata": {}
  },
  {
   "cell_type": "code",
   "execution_count": 1421,
   "source": [
    "# firstDS.isnull().sum()"
   ],
   "outputs": [],
   "metadata": {}
  },
  {
   "cell_type": "code",
   "execution_count": 1422,
   "source": [
    "print(firstDS[\"Genetic Disorder\"].value_counts())\r\n",
    "print(firstDS[\"Disorder Subclass\"].value_counts())"
   ],
   "outputs": [
    {
     "output_type": "stream",
     "name": "stdout",
     "text": [
      "Mitochondrial genetic inheritance disorders     10202\n",
      "Single-gene inheritance diseases                 7664\n",
      "Multifactorial genetic inheritance disorders     2071\n",
      "Name: Genetic Disorder, dtype: int64\n",
      "Leigh syndrome                         5160\n",
      "Mitochondrial myopathy                 4405\n",
      "Cystic fibrosis                        3448\n",
      "Tay-Sachs                              2833\n",
      "Diabetes                               1817\n",
      "Hemochromatosis                        1355\n",
      "Leber's hereditary optic neuropathy     648\n",
      "Alzheimer's                             152\n",
      "Cancer                                   97\n",
      "Name: Disorder Subclass, dtype: int64\n"
     ]
    }
   ],
   "metadata": {}
  },
  {
   "cell_type": "code",
   "execution_count": 1423,
   "source": [
    "firstDS.shape"
   ],
   "outputs": [
    {
     "output_type": "execute_result",
     "data": {
      "text/plain": [
       "(22083, 45)"
      ]
     },
     "metadata": {},
     "execution_count": 1423
    }
   ],
   "metadata": {}
  },
  {
   "cell_type": "code",
   "execution_count": 1424,
   "source": [
    "# firstDS = firstDS[firstDS['Genetic Disorder'].notna()]\r\n",
    "firstDS = firstDS[firstDS['Disorder Subclass'].notna()]\r\n",
    "firstDS.shape"
   ],
   "outputs": [
    {
     "output_type": "execute_result",
     "data": {
      "text/plain": [
       "(19915, 45)"
      ]
     },
     "metadata": {},
     "execution_count": 1424
    }
   ],
   "metadata": {}
  },
  {
   "cell_type": "code",
   "execution_count": 1425,
   "source": [
    "firstDS.shape"
   ],
   "outputs": [
    {
     "output_type": "execute_result",
     "data": {
      "text/plain": [
       "(19915, 45)"
      ]
     },
     "metadata": {},
     "execution_count": 1425
    }
   ],
   "metadata": {}
  },
  {
   "cell_type": "markdown",
   "source": [
    "# Feature Encoding starts here"
   ],
   "metadata": {}
  },
  {
   "cell_type": "code",
   "execution_count": 1426,
   "source": [
    "firstDS[\"Genes in mother's side\"].replace({\"No\":0,\"Yes\":1},inplace=True)\r\n",
    "# firstDS.head()"
   ],
   "outputs": [],
   "metadata": {}
  },
  {
   "cell_type": "code",
   "execution_count": 1427,
   "source": [
    "firstDS[\"Inherited from father\"].value_counts()\r\n",
    "firstDS[\"Inherited from father\"].replace({\"No\":0,\"Yes\":1},inplace=True)\r\n",
    "# firstDS.head()"
   ],
   "outputs": [],
   "metadata": {}
  },
  {
   "cell_type": "code",
   "execution_count": 1428,
   "source": [
    "firstDS[\"Maternal gene\"].value_counts()\r\n",
    "firstDS[\"Maternal gene\"].replace({\"No\":0,\"Yes\":1},inplace=True)\r\n",
    "# firstDS.head()"
   ],
   "outputs": [],
   "metadata": {}
  },
  {
   "cell_type": "code",
   "execution_count": 1429,
   "source": [
    "firstDS[\"Paternal gene\"].value_counts()\r\n",
    "firstDS[\"Paternal gene\"].replace({\"No\":0,\"Yes\":1},inplace=True)\r\n",
    "# firstDS.head()"
   ],
   "outputs": [],
   "metadata": {}
  },
  {
   "cell_type": "code",
   "execution_count": 1430,
   "source": [
    "firstDS.drop(columns={\"Patient Id\",\"Patient First Name\"},axis=1,inplace=True)\r\n",
    "# firstDS.head()"
   ],
   "outputs": [],
   "metadata": {}
  },
  {
   "cell_type": "code",
   "execution_count": 1431,
   "source": [
    "firstDS.drop(columns={\"Family Name\",\"Father's name\"},axis=1,inplace=True)\r\n",
    "# firstDS.head()\r\n",
    "# firstDS[\"Mother's age\"].value_counts()"
   ],
   "outputs": [],
   "metadata": {}
  },
  {
   "cell_type": "code",
   "execution_count": 1432,
   "source": [
    "# replacing null values with mean of all age\r\n",
    "firstDS[\"Mother's age\"]=firstDS[\"Mother's age\"].fillna(firstDS[\"Mother's age\"].median())\r\n",
    "firstDS[\"Father's age\"]=firstDS[\"Father's age\"].fillna(firstDS[\"Father's age\"].median())"
   ],
   "outputs": [],
   "metadata": {}
  },
  {
   "cell_type": "code",
   "execution_count": 1433,
   "source": [
    "firstDS.drop(columns={\"Institute Name\",\"Location of Institute\"},axis=1,inplace=True)\r\n",
    "# firstDS.head()"
   ],
   "outputs": [],
   "metadata": {}
  },
  {
   "cell_type": "code",
   "execution_count": 1434,
   "source": [
    "firstDS[\"Status\"].value_counts()\r\n",
    "firstDS[\"Status\"].replace({\"Deceased\":0,\"Alive\":1},inplace=True)\r\n",
    "# firstDS.head()"
   ],
   "outputs": [],
   "metadata": {}
  },
  {
   "cell_type": "code",
   "execution_count": 1435,
   "source": [
    "firstDS[\"Respiratory Rate (breaths/min)\"].value_counts()\r\n",
    "firstDS[\"Respiratory Rate (breaths/min)\"].replace({\"Normal (30-60)\":0,\"Tachypnea\":1},inplace=True)\r\n",
    "# firstDS.head()"
   ],
   "outputs": [],
   "metadata": {}
  },
  {
   "cell_type": "code",
   "execution_count": 1436,
   "source": [
    "firstDS[\"Heart Rate (rates/min\"].value_counts()\r\n",
    "firstDS[\"Heart Rate (rates/min\"].replace({\"Normal\":0,\"Tachycardia\":1},inplace=True)\r\n",
    "# firstDS.head()"
   ],
   "outputs": [],
   "metadata": {}
  },
  {
   "cell_type": "code",
   "execution_count": 1437,
   "source": [
    "# firstDS.drop([\"Test 1\",\"Test 2\",\"Test 3\",\"Test 4\",\"Test 5\"],axis=1,inplace=True)"
   ],
   "outputs": [],
   "metadata": {}
  },
  {
   "cell_type": "code",
   "execution_count": 1438,
   "source": [
    "firstDS[\"Parental consent\"].value_counts()\r\n",
    "firstDS[\"Parental consent\"].replace({\"Yes\":1},inplace=True)\r\n",
    "# firstDS.head()"
   ],
   "outputs": [],
   "metadata": {}
  },
  {
   "cell_type": "code",
   "execution_count": 1439,
   "source": [
    "firstDS[\"Follow-up\"].value_counts()\r\n",
    "firstDS[\"Follow-up\"].replace({\"Low\":0,\"High\":1},inplace=True)\r\n",
    "# firstDS.head()"
   ],
   "outputs": [],
   "metadata": {}
  },
  {
   "cell_type": "code",
   "execution_count": 1440,
   "source": [
    "firstDS[\"Gender\"].value_counts()\r\n",
    "gender = firstDS[\"Gender\"]\r\n",
    "gender = pd.get_dummies(firstDS[\"Gender\"],drop_first=False)\r\n",
    "# gender.head()"
   ],
   "outputs": [],
   "metadata": {}
  },
  {
   "cell_type": "code",
   "execution_count": 1441,
   "source": [
    "firstDS.drop(\"Gender\",axis=1,inplace=True)"
   ],
   "outputs": [],
   "metadata": {}
  },
  {
   "cell_type": "code",
   "execution_count": 1442,
   "source": [
    "firstDS = pd.concat([firstDS,gender],axis=1)\r\n",
    "# firstDS.head()"
   ],
   "outputs": [],
   "metadata": {}
  },
  {
   "cell_type": "code",
   "execution_count": 1443,
   "source": [
    "firstDS[\"Birth asphyxia\"].value_counts(0)\r\n",
    "firstDS[\"Birth asphyxia\"].replace({\"No record\":np.nan,\"Not available\":np.nan},inplace=True)\r\n",
    "firstDS[\"Birth asphyxia\"].value_counts(0)"
   ],
   "outputs": [
    {
     "output_type": "execute_result",
     "data": {
      "text/plain": [
       "Yes    4659\n",
       "No     4401\n",
       "Name: Birth asphyxia, dtype: int64"
      ]
     },
     "metadata": {},
     "execution_count": 1443
    }
   ],
   "metadata": {}
  },
  {
   "cell_type": "code",
   "execution_count": 1444,
   "source": [
    "# firstDS[\"Birth asphyxia\"].replace({\"Yes\":1,\"No\":0,\"No record\":9,\"Not available\":9},inplace=True)\r\n",
    "firstDS[\"Birth asphyxia\"].replace({\"Yes\":1,\"No\":0},inplace=True)\r\n",
    "firstDS[\"Birth asphyxia\"].value_counts(0)"
   ],
   "outputs": [
    {
     "output_type": "execute_result",
     "data": {
      "text/plain": [
       "1.0    4659\n",
       "0.0    4401\n",
       "Name: Birth asphyxia, dtype: int64"
      ]
     },
     "metadata": {},
     "execution_count": 1444
    }
   ],
   "metadata": {}
  },
  {
   "cell_type": "code",
   "execution_count": 1445,
   "source": [
    "firstDS[\"Autopsy shows birth defect (if applicable)\"].value_counts()"
   ],
   "outputs": [
    {
     "output_type": "execute_result",
     "data": {
      "text/plain": [
       "Not applicable    10005\n",
       "None               3061\n",
       "Yes                3030\n",
       "No                 2922\n",
       "Name: Autopsy shows birth defect (if applicable), dtype: int64"
      ]
     },
     "metadata": {},
     "execution_count": 1445
    }
   ],
   "metadata": {}
  },
  {
   "cell_type": "code",
   "execution_count": 1446,
   "source": [
    "firstDS[\"Autopsy shows birth defect (if applicable)\"].replace({\"Not applicable\":np.nan,\"None\":np.nan},inplace=True)\r\n",
    "firstDS[\"Autopsy shows birth defect (if applicable)\"].value_counts()"
   ],
   "outputs": [
    {
     "output_type": "execute_result",
     "data": {
      "text/plain": [
       "Yes    3030\n",
       "No     2922\n",
       "Name: Autopsy shows birth defect (if applicable), dtype: int64"
      ]
     },
     "metadata": {},
     "execution_count": 1446
    }
   ],
   "metadata": {}
  },
  {
   "cell_type": "code",
   "execution_count": 1447,
   "source": [
    "# firstDS[\"Autopsy shows birth defect (if applicable)\"].replace({\"Yes\":1,\"No\":0,\"Not applicable\":9,\"None\":9},inplace=True)\r\n",
    "firstDS[\"Autopsy shows birth defect (if applicable)\"].replace({\"Yes\":1,\"No\":0},inplace=True)\r\n",
    "firstDS[\"Autopsy shows birth defect (if applicable)\"].value_counts(0)"
   ],
   "outputs": [
    {
     "output_type": "execute_result",
     "data": {
      "text/plain": [
       "1.0    3030\n",
       "0.0    2922\n",
       "Name: Autopsy shows birth defect (if applicable), dtype: int64"
      ]
     },
     "metadata": {},
     "execution_count": 1447
    }
   ],
   "metadata": {}
  },
  {
   "cell_type": "code",
   "execution_count": 1448,
   "source": [
    "firstDS.drop(\"Autopsy shows birth defect (if applicable)\",axis=1,inplace=True)"
   ],
   "outputs": [],
   "metadata": {}
  },
  {
   "cell_type": "code",
   "execution_count": 1449,
   "source": [
    "firstDS[\"Place of birth\"].value_counts()\r\n",
    "placeOfBirth = pd.get_dummies(firstDS[\"Place of birth\"],drop_first=False)"
   ],
   "outputs": [],
   "metadata": {}
  },
  {
   "cell_type": "code",
   "execution_count": 1450,
   "source": [
    "firstDS.drop(\"Place of birth\",axis=1,inplace=True)\r\n",
    "# firstDS.columns"
   ],
   "outputs": [],
   "metadata": {}
  },
  {
   "cell_type": "code",
   "execution_count": 1451,
   "source": [
    "firstDS = pd.concat([firstDS,placeOfBirth],axis=1)\r\n",
    "# firstDS.head()"
   ],
   "outputs": [],
   "metadata": {}
  },
  {
   "cell_type": "code",
   "execution_count": 1452,
   "source": [
    "firstDS[\"Folic acid details (peri-conceptional)\"].value_counts()\r\n",
    "firstDS[\"Folic acid details (peri-conceptional)\"].replace({\"Yes\":1,\"No\":0},inplace=True)\r\n",
    "firstDS[\"Folic acid details (peri-conceptional)\"].value_counts(0)"
   ],
   "outputs": [
    {
     "output_type": "execute_result",
     "data": {
      "text/plain": [
       "1.0    9128\n",
       "0.0    8964\n",
       "Name: Folic acid details (peri-conceptional), dtype: int64"
      ]
     },
     "metadata": {},
     "execution_count": 1452
    }
   ],
   "metadata": {}
  },
  {
   "cell_type": "code",
   "execution_count": 1453,
   "source": [
    "firstDS[\"H/O serious maternal illness\"].value_counts()\r\n",
    "firstDS[\"H/O serious maternal illness\"].replace({\"Yes\":1,\"No\":0},inplace=True)\r\n",
    "firstDS[\"H/O serious maternal illness\"].value_counts()"
   ],
   "outputs": [
    {
     "output_type": "execute_result",
     "data": {
      "text/plain": [
       "0.0    9091\n",
       "1.0    8993\n",
       "Name: H/O serious maternal illness, dtype: int64"
      ]
     },
     "metadata": {},
     "execution_count": 1453
    }
   ],
   "metadata": {}
  },
  {
   "cell_type": "code",
   "execution_count": 1454,
   "source": [
    "firstDS[\"H/O radiation exposure (x-ray)\"].value_counts()\r\n",
    "firstDS[\"H/O radiation exposure (x-ray)\"].replace({\"Not applicable\":np.nan,\"-\":np.nan},inplace=True)\r\n",
    "firstDS[\"H/O radiation exposure (x-ray)\"].value_counts()"
   ],
   "outputs": [
    {
     "output_type": "execute_result",
     "data": {
      "text/plain": [
       "No     4561\n",
       "Yes    4516\n",
       "Name: H/O radiation exposure (x-ray), dtype: int64"
      ]
     },
     "metadata": {},
     "execution_count": 1454
    }
   ],
   "metadata": {}
  },
  {
   "cell_type": "code",
   "execution_count": 1455,
   "source": [
    "# firstDS[\"H/O radiation exposure (x-ray)\"].replace({\"Yes\":1,\"No\":0,\"Not applicable\":9,\"-\":9},inplace=True)\r\n",
    "firstDS[\"H/O radiation exposure (x-ray)\"].replace({\"Yes\":1,\"No\":0},inplace=True)\r\n",
    "firstDS[\"H/O radiation exposure (x-ray)\"].value_counts()"
   ],
   "outputs": [
    {
     "output_type": "execute_result",
     "data": {
      "text/plain": [
       "0.0    4561\n",
       "1.0    4516\n",
       "Name: H/O radiation exposure (x-ray), dtype: int64"
      ]
     },
     "metadata": {},
     "execution_count": 1455
    }
   ],
   "metadata": {}
  },
  {
   "cell_type": "code",
   "execution_count": 1456,
   "source": [
    "firstDS[\"H/O substance abuse\"].value_counts()\r\n",
    "firstDS[\"H/O substance abuse\"].replace({\"Not applicable\":np.nan,\"-\":np.nan},inplace=True)"
   ],
   "outputs": [],
   "metadata": {}
  },
  {
   "cell_type": "code",
   "execution_count": 1457,
   "source": [
    "# firstDS[\"H/O substance abuse\"].replace({\"Yes\":1,\"No\":0,\"Not applicable\":9,\"-\":9},inplace=True)\r\n",
    "firstDS[\"H/O substance abuse\"].replace({\"Yes\":1,\"No\":0},inplace=True)\r\n",
    "# firstDS[\"H/O substance abuse\"].value_counts()"
   ],
   "outputs": [],
   "metadata": {}
  },
  {
   "cell_type": "code",
   "execution_count": 1458,
   "source": [
    "firstDS[\"Assisted conception IVF/ART\"].value_counts()\r\n",
    "firstDS[\"Assisted conception IVF/ART\"].replace({\"Yes\":1,\"No\":0},inplace=True)\r\n",
    "firstDS[\"Assisted conception IVF/ART\"].value_counts()"
   ],
   "outputs": [
    {
     "output_type": "execute_result",
     "data": {
      "text/plain": [
       "1.0    9069\n",
       "0.0    9016\n",
       "Name: Assisted conception IVF/ART, dtype: int64"
      ]
     },
     "metadata": {},
     "execution_count": 1458
    }
   ],
   "metadata": {}
  },
  {
   "cell_type": "code",
   "execution_count": 1459,
   "source": [
    "firstDS[\"History of anomalies in previous pregnancies\"].value_counts()\r\n",
    "firstDS[\"History of anomalies in previous pregnancies\"].replace({\"Yes\":1,\"No\":0},inplace=True)\r\n",
    "firstDS[\"History of anomalies in previous pregnancies\"].value_counts()"
   ],
   "outputs": [
    {
     "output_type": "execute_result",
     "data": {
      "text/plain": [
       "1.0    9158\n",
       "0.0    8912\n",
       "Name: History of anomalies in previous pregnancies, dtype: int64"
      ]
     },
     "metadata": {},
     "execution_count": 1459
    }
   ],
   "metadata": {}
  },
  {
   "cell_type": "code",
   "execution_count": 1460,
   "source": [
    "firstDS[\"Birth defects\"].value_counts()\r\n",
    "firstDS[\"Birth defects\"].replace({\"Multiple\":1,\"Singular\":0},inplace=True)\r\n",
    "firstDS[\"Birth defects\"].value_counts()"
   ],
   "outputs": [
    {
     "output_type": "execute_result",
     "data": {
      "text/plain": [
       "0.0    9050\n",
       "1.0    9020\n",
       "Name: Birth defects, dtype: int64"
      ]
     },
     "metadata": {},
     "execution_count": 1460
    }
   ],
   "metadata": {}
  },
  {
   "cell_type": "code",
   "execution_count": 1461,
   "source": [
    "firstDS[\"Blood test result\"].value_counts()\r\n",
    "bloodTestResult = pd.get_dummies(firstDS[\"Blood test result\"],drop_first=False)\r\n",
    "# bloodTestResult.head()"
   ],
   "outputs": [],
   "metadata": {}
  },
  {
   "cell_type": "code",
   "execution_count": 1462,
   "source": [
    "firstDS.drop(\"Blood test result\",axis=1, inplace=True)"
   ],
   "outputs": [],
   "metadata": {}
  },
  {
   "cell_type": "code",
   "execution_count": 1463,
   "source": [
    "firstDS = pd.concat([firstDS,bloodTestResult],axis = 1)\r\n",
    "# firstDS.head()"
   ],
   "outputs": [],
   "metadata": {}
  },
  {
   "cell_type": "code",
   "execution_count": 1464,
   "source": [
    "# firstDS[\"Symptom 5\"].value_counts()"
   ],
   "outputs": [],
   "metadata": {}
  },
  {
   "cell_type": "code",
   "execution_count": 1465,
   "source": [
    "firstDS[\"Genetic Disorder\"].replace({\r\n",
    "    \"Mitochondrial genetic inheritance disorders\":1,\r\n",
    "    \"Single-gene inheritance diseases\":2,\r\n",
    "    \"Multifactorial genetic inheritance disorders\":3\r\n",
    "    },inplace=True)"
   ],
   "outputs": [],
   "metadata": {}
  },
  {
   "cell_type": "code",
   "execution_count": 1466,
   "source": [
    "firstDS[\"Disorder Subclass\"].replace({\r\n",
    "    \"Leber's hereditary optic neuropathy\":1,\r\n",
    "    \"Diabetes\":2,\r\n",
    "    \"Leigh syndrome\":3,\r\n",
    "    \"Cancer\":4,\r\n",
    "    \"Cystic fibrosis\":5,\r\n",
    "    \"Tay-Sachs\":6,\r\n",
    "    \"Hemochromatosis\":7,\r\n",
    "    \"Mitochondrial myopathy\":8,\r\n",
    "    \"Alzheimer's\":9\r\n",
    "    },inplace=True)"
   ],
   "outputs": [],
   "metadata": {}
  },
  {
   "cell_type": "code",
   "execution_count": 1467,
   "source": [
    "# plt.figure(figsize=(30,30))\r\n",
    "# sns.heatmap(firstDS.corr(),annot=True,cmap=\"RdYlGn\")\r\n",
    "# plt.show()"
   ],
   "outputs": [],
   "metadata": {}
  },
  {
   "cell_type": "code",
   "execution_count": 1468,
   "source": [
    "#this is the final firstDS\r\n",
    "# firstDS.head()"
   ],
   "outputs": [],
   "metadata": {}
  },
  {
   "cell_type": "markdown",
   "source": [
    "## ============================Creating X and y"
   ],
   "metadata": {}
  },
  {
   "cell_type": "code",
   "execution_count": 1469,
   "source": [
    "# Creating y dataset\r\n",
    "# y=firstDS[\"Genetic Disorder\"]\r\n",
    "y=firstDS[\"Disorder Subclass\"]"
   ],
   "outputs": [],
   "metadata": {}
  },
  {
   "cell_type": "code",
   "execution_count": 1470,
   "source": [
    "#creating X dataset\r\n",
    "X = firstDS\r\n",
    "X.drop(columns={\"Genetic Disorder\"},axis=1,inplace=True)\r\n",
    "X.drop(columns={\"Disorder Subclass\"},axis=1,inplace=True)\r\n",
    "# X.columns"
   ],
   "outputs": [],
   "metadata": {}
  },
  {
   "cell_type": "markdown",
   "source": [
    "# Ends Data Encoding"
   ],
   "metadata": {}
  },
  {
   "cell_type": "markdown",
   "source": [
    "**MOTS:** we have done feature encoding till here and we have to prepair train and test split also."
   ],
   "metadata": {}
  },
  {
   "cell_type": "code",
   "execution_count": 1471,
   "source": [
    "X_train, X_test, y_train, y_test = train_test_split(X, y, test_size = 0.2, random_state = 42)"
   ],
   "outputs": [],
   "metadata": {}
  },
  {
   "cell_type": "markdown",
   "source": [
    "# Modal Training"
   ],
   "metadata": {}
  },
  {
   "cell_type": "code",
   "execution_count": 1472,
   "source": [
    "# before modeling i am trying to set the parameter for multiclass\r\n",
    "# Creating a train and test DMatrix\r\n",
    "dtrain = xgboost.DMatrix(X_train, label=y_train)\r\n",
    "dtest = xgboost.DMatrix(X_test, label=y_test)\r\n",
    "num_boost_round = 999\r\n"
   ],
   "outputs": [],
   "metadata": {}
  },
  {
   "cell_type": "code",
   "execution_count": 1473,
   "source": [
    "\r\n",
    "#setting some random parameter\r\n",
    "params = {\r\n",
    "    'max_depth':6,\r\n",
    "    'min_child_weight': 1,\r\n",
    "    'eta':.3,\r\n",
    "    'subsample': 1,\r\n",
    "    'colsample_bytree': 1,\r\n",
    "    'objective':'multi:softprob',\r\n",
    "    'num_class':10,\r\n",
    "    # 'n_estimators':1000\r\n",
    "}"
   ],
   "outputs": [],
   "metadata": {}
  },
  {
   "cell_type": "code",
   "execution_count": null,
   "source": [
    "# Lets train the modal to check the loss function\r\n",
    "model = xgboost.train(\r\n",
    "    params,\r\n",
    "    dtrain,\r\n",
    "    num_boost_round=num_boost_round,\r\n",
    "    evals=[(dtest, \"Test\")],\r\n",
    "    early_stopping_rounds=10\r\n",
    ")\r\n",
    "print(\"Best mlogloss: {:.2f} with {} rounds\".format(model.best_score, model.best_iteration+1))"
   ],
   "outputs": [],
   "metadata": {}
  },
  {
   "cell_type": "code",
   "execution_count": 1239,
   "source": [
    "# Now we are doing the cross validation and recheck all the accuracy. Once the loss function value is less we wil consider that.abs\r\n",
    "cv_results = xgboost.cv(\r\n",
    "    params,\r\n",
    "    dtrain,\r\n",
    "    num_boost_round=num_boost_round,\r\n",
    "    seed=42,\r\n",
    "    nfold=5,\r\n",
    "    metrics={'mlogloss'},\r\n",
    "    early_stopping_rounds=10\r\n",
    ")\r\n",
    "cv_results['test-mlogloss-mean'].min()"
   ],
   "outputs": [
    {
     "output_type": "execute_result",
     "data": {
      "text/plain": [
       "0.8263753999999999"
      ]
     },
     "metadata": {},
     "execution_count": 1239
    }
   ],
   "metadata": {}
  },
  {
   "cell_type": "code",
   "execution_count": null,
   "source": [
    "# Once we have out mlogloss values we will try to check one by oneparameters.abs\r\n",
    "gridsearch_params = [\r\n",
    "    (max_depth, min_child_weight)\r\n",
    "    for max_depth in range(4,8)\r\n",
    "    for min_child_weight in range(1,3)\r\n",
    "]\r\n",
    "\r\n",
    "# Define initial best params and mlogloss\r\n",
    "min_logloss = float(\"Inf\")\r\n",
    "best_params = None\r\n",
    "for max_depth, min_child_weight in gridsearch_params:\r\n",
    "    print(\"CV with max_depth={}, min_child_weight={}\".format(max_depth,min_child_weight))\r\n",
    "    # Update our parameters for each round\r\n",
    "    params['max_depth'] = max_depth\r\n",
    "    params['min_child_weight'] = min_child_weight\r\n",
    "\r\n",
    "    # Run CV\r\n",
    "    cv_results = xgboost.cv(\r\n",
    "        params,\r\n",
    "        dtrain,\r\n",
    "        num_boost_round=num_boost_round,\r\n",
    "        seed=42,\r\n",
    "        nfold=5,\r\n",
    "        metrics={'mlogloss'},\r\n",
    "        early_stopping_rounds=10\r\n",
    "    )\r\n",
    "\r\n",
    "    # Update best logloss\r\n",
    "    currentMinLogloss = cv_results['test-mlogloss-mean'].min()\r\n",
    "    boost_rounds = cv_results['test-mlogloss-mean'].argmin()\r\n",
    "    print(\"\\tlogloss {} for {} rounds\".format(currentMinLogloss, boost_rounds))\r\n",
    "    if currentMinLogloss < min_logloss:\r\n",
    "        print(\"currentMinLogloss is: \", currentMinLogloss, \" and min_logloss is: \", min_logloss)\r\n",
    "        min_logloss = currentMinLogloss\r\n",
    "        best_params = (max_depth,min_child_weight)\r\n",
    "print(\"Best params: {}, {}, losslog: {}\".format(best_params[0], best_params[1], min_logloss))"
   ],
   "outputs": [],
   "metadata": {}
  },
  {
   "cell_type": "code",
   "execution_count": 1474,
   "source": [
    "params['max_depth'] = 4\r\n",
    "params['min_child_weight'] = 2\r\n",
    "params"
   ],
   "outputs": [
    {
     "output_type": "execute_result",
     "data": {
      "text/plain": [
       "{'max_depth': 4,\n",
       " 'min_child_weight': 2,\n",
       " 'eta': 0.3,\n",
       " 'subsample': 1,\n",
       " 'colsample_bytree': 1,\n",
       " 'objective': 'multi:softprob',\n",
       " 'num_class': 10}"
      ]
     },
     "metadata": {},
     "execution_count": 1474
    }
   ],
   "metadata": {}
  },
  {
   "cell_type": "code",
   "execution_count": null,
   "source": [
    "# Tuning the learning rate\r\n",
    "\r\n",
    "min_logloss = float(\"Inf\")\r\n",
    "best_params = None\r\n",
    "for eta in [.3, .2, .1]:\r\n",
    "    print(\"CV with eta={}\".format(eta))\r\n",
    "    # We update our parameters\r\n",
    "    params['eta'] = eta\r\n",
    "    # Run and time CV\r\n",
    "    cv_results = xgboost.cv(\r\n",
    "      params,\r\n",
    "      dtrain,\r\n",
    "      num_boost_round=num_boost_round,\r\n",
    "      seed=42,\r\n",
    "      nfold=5,\r\n",
    "      metrics=['mlogloss'],\r\n",
    "      early_stopping_rounds=10\r\n",
    "          )\r\n",
    "    # Update best score\r\n",
    "    currentMinLogloss = cv_results['test-mlogloss-mean'].min()\r\n",
    "    boost_rounds = cv_results['test-mlogloss-mean'].argmin()\r\n",
    "    print(\"\\tMAE {} for {} rounds\\n\".format(currentMinLogloss, boost_rounds))\r\n",
    "    if currentMinLogloss < min_logloss:\r\n",
    "        min_logloss = currentMinLogloss\r\n",
    "        best_params = eta\r\n",
    "print(\"Best params: {}, losslog: {}\".format(best_params, min_logloss))"
   ],
   "outputs": [],
   "metadata": {}
  },
  {
   "cell_type": "code",
   "execution_count": 1475,
   "source": [
    "params['eta'] = 0.1\r\n",
    "params"
   ],
   "outputs": [
    {
     "output_type": "execute_result",
     "data": {
      "text/plain": [
       "{'max_depth': 4,\n",
       " 'min_child_weight': 2,\n",
       " 'eta': 0.1,\n",
       " 'subsample': 1,\n",
       " 'colsample_bytree': 1,\n",
       " 'objective': 'multi:softprob',\n",
       " 'num_class': 10}"
      ]
     },
     "metadata": {},
     "execution_count": 1475
    }
   ],
   "metadata": {}
  },
  {
   "cell_type": "markdown",
   "source": [
    "**MOTS:** this is how our params looks like. Lets try to train the modal and check what is the error."
   ],
   "metadata": {}
  },
  {
   "cell_type": "code",
   "execution_count": null,
   "source": [
    "model1 = xgboost.train(\r\n",
    "    params,\r\n",
    "    dtrain,\r\n",
    "    num_boost_round=num_boost_round,\r\n",
    "    evals=[(dtest, \"Test\")],\r\n",
    "    early_stopping_rounds=10\r\n",
    ")\r\n",
    "print(\"Best mlogloss: {:.2f} with {} rounds\".format(model1.best_score, model1.best_iteration+1))"
   ],
   "outputs": [],
   "metadata": {}
  },
  {
   "cell_type": "code",
   "execution_count": 1476,
   "source": [
    "xgboostModal = xgboost.XGBClassifier(params)\r\n",
    "xgboostModal.fit(X,y)\r\n",
    "prediction = xgboostModal.predict(X_test)\r\n",
    "score = accuracy_score(prediction,y_test)\r\n",
    "score"
   ],
   "outputs": [
    {
     "output_type": "stream",
     "name": "stdout",
     "text": [
      "[22:14:56] WARNING: ..\\src\\learner.cc:1061: Starting in XGBoost 1.3.0, the default evaluation metric used with the objective 'multi:softprob' was changed from 'merror' to 'mlogloss'. Explicitly set eval_metric if you'd like to restore the old behavior.\n"
     ]
    },
    {
     "output_type": "execute_result",
     "data": {
      "text/plain": [
       "0.9412503138337937"
      ]
     },
     "metadata": {},
     "execution_count": 1476
    }
   ],
   "metadata": {}
  },
  {
   "cell_type": "code",
   "execution_count": null,
   "source": [
    "# Normal data training for xgboost\r\n",
    "# xgboostModal = xgboost.XGBClassifier(n_estimators=1000,max_depth=5,min_child_weight=2,gamma=0.2,objective='multi:softprob',num_class=3)\r\n",
    "# xgboostModal = xgboost.XGBClassifier(n_estimators=100,max_depth=5,min_child_weight=2,gamma=0.2,objective='multi:softprob',num_class=9)\r\n",
    "# random_search=GridSearchCV(estimator = xgboost.XGBClassifier(objective='multi:softprob',num_class=3),param_distributions=params,n_iter=5,scoring='roc_auc',n_jobs=-1,cv=5,verbose=3)\r\n",
    "# random_search=GridSearchCV(estimator = xgboost.XGBClassifier(num_class=3),param_grid=params,scoring='roc_auc',n_jobs=-1,cv=5,verbose=3)\r\n"
   ],
   "outputs": [],
   "metadata": {}
  },
  {
   "cell_type": "code",
   "execution_count": null,
   "source": [
    "# random_search.fit(X_train,y_train)\r\n",
    "# xgboostModal.fit(X_train,y_train)"
   ],
   "outputs": [],
   "metadata": {}
  },
  {
   "cell_type": "code",
   "execution_count": null,
   "source": [
    "# prediction = xgboostModal.predict(X_test)\r\n",
    "# score = accuracy_score(prediction,y_test)\r\n",
    "# score"
   ],
   "outputs": [],
   "metadata": {}
  },
  {
   "cell_type": "markdown",
   "source": [
    "# ===============================================Modal training ENDS here"
   ],
   "metadata": {}
  },
  {
   "cell_type": "markdown",
   "source": [
    "# Data encoding =================================== for test data starts here"
   ],
   "metadata": {}
  },
  {
   "cell_type": "code",
   "execution_count": 1477,
   "source": [
    "# Lets load the data and proceed further.\r\n",
    "testDS = pd.read_csv(\"./dataset/test.csv\")\r\n",
    "testDS.shape"
   ],
   "outputs": [
    {
     "output_type": "execute_result",
     "data": {
      "text/plain": [
       "(9465, 43)"
      ]
     },
     "metadata": {},
     "execution_count": 1477
    }
   ],
   "metadata": {}
  },
  {
   "cell_type": "code",
   "execution_count": 1478,
   "source": [
    "testFirstDS = testDS"
   ],
   "outputs": [],
   "metadata": {}
  },
  {
   "cell_type": "code",
   "execution_count": 1479,
   "source": [
    "testFirstDS[\"Genes in mother's side\"].replace({\"No\":0,\"Yes\":1},inplace=True)\r\n",
    "testFirstDS[\"Inherited from father\"].replace({\"No\":0,\"Yes\":1},inplace=True)\r\n",
    "testFirstDS[\"Maternal gene\"].replace({\"No\":0,\"Yes\":1},inplace=True)\r\n",
    "testFirstDS[\"Paternal gene\"].replace({\"No\":0,\"Yes\":1},inplace=True)\r\n",
    "testFirstDS.drop(columns={\"Patient Id\",\"Patient First Name\"},axis=1,inplace=True)\r\n",
    "testFirstDS.drop(columns={\"Family Name\",\"Father's name\"},axis=1,inplace=True)\r\n",
    "firstDS[\"Mother's age\"]=firstDS[\"Mother's age\"].fillna(firstDS[\"Mother's age\"].median())\r\n",
    "firstDS[\"Father's age\"]=firstDS[\"Father's age\"].fillna(firstDS[\"Father's age\"].median())\r\n",
    "testFirstDS.drop(columns={\"Institute Name\",\"Location of Institute\"},axis=1,inplace=True)\r\n",
    "testFirstDS[\"Status\"].replace({\"Deceased\":0,\"Alive\":1},inplace=True)\r\n",
    "testFirstDS[\"Respiratory Rate (breaths/min)\"].replace({\"Normal (30-60)\":0,\"Tachypnea\":1,\"-99\":np.nan},inplace=True)\r\n",
    "testFirstDS[\"Heart Rate (rates/min\"].replace({\"Normal\":0,\"Tachycardia\":1,\"-99\":np.nan},inplace=True)\r\n",
    "testFirstDS[\"Parental consent\"].replace({\"Yes\":1,\"-99\":np.nan},inplace=True)\r\n",
    "testFirstDS[\"Follow-up\"].replace({\"Low\":0,\"High\":1,\"-99\":np.nan},inplace=True)"
   ],
   "outputs": [],
   "metadata": {}
  },
  {
   "cell_type": "code",
   "execution_count": 1480,
   "source": [
    "testGender = testFirstDS[\"Gender\"]\r\n",
    "testGender = pd.get_dummies(testFirstDS[\"Gender\"],drop_first=False)\r\n",
    "testFirstDS.drop(\"Gender\",axis=1,inplace=True)\r\n",
    "testFirstDS = pd.concat([testFirstDS,testGender],axis=1)"
   ],
   "outputs": [],
   "metadata": {}
  },
  {
   "cell_type": "code",
   "execution_count": 1481,
   "source": [
    "testFirstDS[\"Birth asphyxia\"].replace({\"No record\":np.nan,\"Not available\":np.nan,\"-99\":np.nan},inplace=True)\r\n",
    "testFirstDS[\"Birth asphyxia\"].replace({\"Yes\":1,\"No\":0},inplace=True)\r\n",
    "testFirstDS[\"Autopsy shows birth defect (if applicable)\"].replace({\"Not applicable\":np.nan,\"None\":np.nan},inplace=True)\r\n",
    "testFirstDS[\"Autopsy shows birth defect (if applicable)\"].replace({\"Yes\":1,\"No\":0},inplace=True)\r\n",
    "testFirstDS.drop(\"Autopsy shows birth defect (if applicable)\",axis=1,inplace=True)"
   ],
   "outputs": [],
   "metadata": {}
  },
  {
   "cell_type": "code",
   "execution_count": 1482,
   "source": [
    "testPlaceOfBirth = pd.get_dummies(testFirstDS[\"Place of birth\"],drop_first=False)\r\n",
    "testFirstDS.drop(\"Place of birth\",axis=1,inplace=True)\r\n",
    "testFirstDS = pd.concat([testFirstDS,testPlaceOfBirth],axis=1)"
   ],
   "outputs": [],
   "metadata": {}
  },
  {
   "cell_type": "code",
   "execution_count": 1483,
   "source": [
    "testFirstDS[\"Folic acid details (peri-conceptional)\"].replace({\"Yes\":1,\"No\":0,\"-99\":np.nan},inplace=True)\r\n",
    "testFirstDS[\"H/O serious maternal illness\"].replace({\"Yes\":1,\"No\":0,\"-99\":np.nan},inplace=True)\r\n",
    "testFirstDS[\"H/O radiation exposure (x-ray)\"].replace({\"Not applicable\":np.nan,\"-\":np.nan,\"-99\":np.nan},inplace=True)\r\n",
    "testFirstDS[\"H/O radiation exposure (x-ray)\"].replace({\"Yes\":1,\"No\":0},inplace=True)\r\n",
    "testFirstDS[\"H/O substance abuse\"].replace({\"Not applicable\":np.nan,\"-\":np.nan,\"-99\":np.nan},inplace=True)\r\n",
    "testFirstDS[\"H/O substance abuse\"].replace({\"Yes\":1,\"No\":0},inplace=True)\r\n",
    "testFirstDS[\"Assisted conception IVF/ART\"].replace({\"Yes\":1,\"No\":0,\"-99\":np.nan},inplace=True)\r\n",
    "testFirstDS[\"History of anomalies in previous pregnancies\"].replace({\"Yes\":1,\"No\":0,\"-99\":np.nan},inplace=True)\r\n",
    "testFirstDS[\"Birth defects\"].replace({\"Multiple\":1,\"Singular\":0},inplace=True)"
   ],
   "outputs": [],
   "metadata": {}
  },
  {
   "cell_type": "code",
   "execution_count": 1484,
   "source": [
    "# testFirstDS[\"Genetic Disorder\"].replace({\r\n",
    "#     \"Mitochondrial genetic inheritance disorders\":1,\r\n",
    "#     \"Single-gene inheritance diseases\":2,\r\n",
    "#     \"Multifactorial genetic inheritance disorders\":3\r\n",
    "#     },inplace=True)"
   ],
   "outputs": [],
   "metadata": {}
  },
  {
   "cell_type": "code",
   "execution_count": 1485,
   "source": [
    "testBloodTestResult = pd.get_dummies(testFirstDS[\"Blood test result\"],drop_first=False)\r\n",
    "testFirstDS.drop(\"Blood test result\",axis=1, inplace=True)\r\n",
    "testFirstDS = pd.concat([testFirstDS,testBloodTestResult],axis = 1)"
   ],
   "outputs": [],
   "metadata": {}
  },
  {
   "cell_type": "code",
   "execution_count": 1486,
   "source": [
    "testX = testFirstDS"
   ],
   "outputs": [],
   "metadata": {}
  },
  {
   "cell_type": "code",
   "execution_count": 1487,
   "source": [
    "myPrediction = xgboostModal.predict(testX)\r\n",
    "\r\n",
    "# exportToCSV = pd.DataFrame(myPrediction, columns= ['Genetic Disorder'])\r\n",
    "exportToCSV = pd.DataFrame(myPrediction, columns= ['Disorder Subclass'])\r\n"
   ],
   "outputs": [],
   "metadata": {}
  },
  {
   "cell_type": "code",
   "execution_count": 1488,
   "source": [
    "# exportToCSV[\"Genetic Disorder\"].replace({\r\n",
    "#     1:\"Mitochondrial genetic inheritance disorders\",\r\n",
    "#     2:\"Single-gene inheritance diseases\",\r\n",
    "#     3:\"Multifactorial genetic inheritance disorders\"},\r\n",
    "# inplace=True)\r\n",
    "\r\n",
    "exportToCSV[\"Disorder Subclass\"].replace({\r\n",
    "    1:\"Leber's hereditary optic neuropathy\",\r\n",
    "    2:\"Diabetes\",\r\n",
    "    3:\"Leigh syndrome\",\r\n",
    "    4:\"Cancer\",\r\n",
    "    5:\"Cystic fibrosis\",\r\n",
    "    6:\"Tay-Sachs\",\r\n",
    "    7:\"Hemochromatosis\",\r\n",
    "    8:\"Mitochondrial myopathy\",\r\n",
    "    9:\"Alzheimer's\"\r\n",
    "    },inplace=True)"
   ],
   "outputs": [],
   "metadata": {}
  },
  {
   "cell_type": "code",
   "execution_count": 1489,
   "source": [
    "exportToCSV.to_csv (r'C:\\Users\\aditya.srivastva\\Desktop\\HOME\\Temp\\Machine Learning\\NoteBooks\\Genetic Disorder\\pred.txt', index = False, header=True)"
   ],
   "outputs": [],
   "metadata": {}
  }
 ],
 "metadata": {
  "orig_nbformat": 4,
  "language_info": {
   "name": "python",
   "version": "3.8.5",
   "mimetype": "text/x-python",
   "codemirror_mode": {
    "name": "ipython",
    "version": 3
   },
   "pygments_lexer": "ipython3",
   "nbconvert_exporter": "python",
   "file_extension": ".py"
  },
  "kernelspec": {
   "name": "python3",
   "display_name": "Python 3.8.5 64-bit ('base': conda)"
  },
  "interpreter": {
   "hash": "2e3224ba4f12f2fe23aa7067ab0ec53fca43306ff7bbb55e195c157435fb17aa"
  }
 },
 "nbformat": 4,
 "nbformat_minor": 2
}